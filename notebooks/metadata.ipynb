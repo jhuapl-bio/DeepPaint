{
 "cells": [
  {
   "cell_type": "code",
   "execution_count": 1,
   "id": "fa0ed837-4e57-41d5-b055-cd1a56ac70b5",
   "metadata": {},
   "outputs": [],
   "source": [
    "import importlib.resources as pkg_resources\n",
    "from typing import Optional\n",
    "import os\n",
    "\n",
    "import numpy as np\n",
    "import pandas as pd\n",
    "import plotly.graph_objects as go\n",
    "\n",
    "import deep_paint"
   ]
  },
  {
   "cell_type": "code",
   "execution_count": 2,
   "id": "7dbf35ef",
   "metadata": {},
   "outputs": [],
   "source": [
    "# Download metadata directly from https://www.rxrx.ai/rxrx2\n",
    "metadata_path = pkg_resources.files(deep_paint).joinpath(\"..\", \"results\", \"metadata\").resolve()\n",
    "rxrx2_metadata = pd.read_csv(os.path.join(metadata_path, \"metadata.csv\"))"
   ]
  },
  {
   "cell_type": "code",
   "execution_count": 3,
   "id": "3b6da726",
   "metadata": {},
   "outputs": [],
   "source": [
    "# Load significant treatments\n",
    "significant_df = pd.read_csv(os.path.join(metadata_path, \"significant_treatments.csv\"))"
   ]
  },
  {
   "cell_type": "code",
   "execution_count": 4,
   "id": "97fa5307",
   "metadata": {},
   "outputs": [],
   "source": [
    "# Filter by factors (treatments) that underwent significant changes in HUVEC cells\n",
    "rxrx2_metadata = rxrx2_metadata[rxrx2_metadata[\"treatment\"].isin(significant_df[\"treatment\"].values)].reset_index(drop=True)\n",
    "\n",
    "# Add treatment class\n",
    "treatment_mapping = dict(zip(significant_df[\"treatment\"], significant_df[\"class\"]))\n",
    "rxrx2_metadata[\"treatment_class\"] = rxrx2_metadata[\"treatment\"].map(treatment_mapping)\n",
    "\n",
    "# Add directory column\n",
    "rxrx2_metadata[\"directory\"] = rxrx2_metadata[\"experiment\"] + os.sep + \\\n",
    "    \"Plate_\" + rxrx2_metadata[\"plate\"].astype(str) + os.sep + rxrx2_metadata[\"well\"] + \"_s\" + rxrx2_metadata[\"site\"].astype(str)\n",
    "\n",
    "# Filter by treatment class\n",
    "treatment_classes = [\"Cytokine\", \"Growth factor\", \"Toxin\", \"Untreated\"]\n",
    "rxrx2_metadata = rxrx2_metadata[rxrx2_metadata[\"treatment_class\"].isin(treatment_classes)].reset_index(drop=True)"
   ]
  },
  {
   "cell_type": "markdown",
   "id": "6c33ba51",
   "metadata": {},
   "source": [
    "## Binary Metadata"
   ]
  },
  {
   "cell_type": "code",
   "execution_count": 5,
   "id": "c829e7f3",
   "metadata": {},
   "outputs": [],
   "source": [
    "binary_metadata = rxrx2_metadata.copy(deep=True)\n",
    "\n",
    "# Create binary labels\n",
    "binary_metadata[\"label\"] = 0\n",
    "binary_metadata[\"class\"] = \"low_conc\"\n",
    "\n",
    "for treatment, group in binary_metadata[binary_metadata[\"treatment\"] != \"EMPTY\"].groupby(\"treatment\"):\n",
    "    concs = sorted(group[\"treatment_conc\"].unique())\n",
    "    # Top 3 doses are labeled 1 and \"high_conc\"\n",
    "    binary_metadata.loc[(binary_metadata[\"treatment\"] == treatment) & (binary_metadata[\"treatment_conc\"].isin(concs[-3:])), \"label\"] = 1\n",
    "    binary_metadata.loc[(binary_metadata[\"treatment\"] == treatment) & (binary_metadata[\"treatment_conc\"].isin(concs[-3:])), \"class\"] = \"high_conc\"\n",
    "\n",
    "# Sort values\n",
    "binary_metadata = binary_metadata.sort_values(by=[\"treatment\", \"treatment_conc\"]).reset_index(drop=True)\n",
    "\n",
    "# Save to csv\n",
    "binary_metadata.to_csv(\"binary_rxrx2.csv\", index=False)"
   ]
  },
  {
   "cell_type": "markdown",
   "id": "e2b97c46",
   "metadata": {},
   "source": [
    "## Multiclass Metadata"
   ]
  },
  {
   "cell_type": "code",
   "execution_count": 6,
   "id": "4ad45ecd",
   "metadata": {},
   "outputs": [],
   "source": [
    "multiclass_metadata = rxrx2_metadata.copy(deep=True)\n",
    "\n",
    "# Include only three highest doses per treatment\n",
    "for treatment, group in multiclass_metadata[multiclass_metadata[\"treatment\"] != \"EMPTY\"].groupby(\"treatment\"):\n",
    "    concs = sorted(group[\"treatment_conc\"].unique())\n",
    "    lowest_3_concs = concs[:3]\n",
    "    # Drop rows with three lowest doses\n",
    "    multiclass_metadata = multiclass_metadata[~((multiclass_metadata['treatment'] == treatment) & (multiclass_metadata[\"treatment_conc\"].isin(concs[:3])))]\n",
    "\n",
    "# Reset index\n",
    "multiclass_metadata.reset_index(drop=True, inplace=True)\n",
    "\n",
    "# Combine cytokine and growth factors\n",
    "multiclass_metadata[\"class\"] = multiclass_metadata[\"treatment_class\"]\n",
    "multiclass_metadata.loc[multiclass_metadata[\"treatment_class\"] == \"Cytokine\", \"class\"] = \"Cytokine-GF\"\n",
    "multiclass_metadata.loc[multiclass_metadata[\"treatment_class\"] == \"Growth factor\", \"class\"] = \"Cytokine-GF\"\n",
    "\n",
    "# Add numeric labels\n",
    "multilabel_mapping = {\"Cytokine-GF\": 0, \"Toxin\": 1, \"Untreated\": 2}\n",
    "multiclass_metadata[\"label\"] = multiclass_metadata[\"class\"].map(multilabel_mapping)\n",
    "\n",
    "# Sort values\n",
    "multiclass_metadata = multiclass_metadata.sort_values(by=[\"treatment\", \"treatment_conc\"]).reset_index(drop=True)\n",
    "\n",
    "# Save to csv\n",
    "multiclass_metadata.to_csv(\"multiclass_rxrx2.csv\", index=False)"
   ]
  }
 ],
 "metadata": {
  "kernelspec": {
   "display_name": "deep-paint",
   "language": "python",
   "name": "deep-paint"
  },
  "language_info": {
   "codemirror_mode": {
    "name": "ipython",
    "version": 3
   },
   "file_extension": ".py",
   "mimetype": "text/x-python",
   "name": "python",
   "nbconvert_exporter": "python",
   "pygments_lexer": "ipython3",
   "version": "3.12.4"
  }
 },
 "nbformat": 4,
 "nbformat_minor": 5
}
